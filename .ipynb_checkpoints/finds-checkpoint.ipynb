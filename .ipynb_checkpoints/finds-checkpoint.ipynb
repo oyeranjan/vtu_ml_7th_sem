{
 "cells": [
  {
   "cell_type": "code",
   "execution_count": 10,
   "metadata": {},
   "outputs": [
    {
     "name": "stdout",
     "output_type": "stream",
     "text": [
      "[' Sunny', 'Warm', '?', 'Strong', '?', '?']\n"
     ]
    }
   ],
   "source": [
    "fh=open(\"data.csv\")\n",
    "FirstLine=fh.readline()\n",
    "first_line=FirstLine.split(sep=\",\")\n",
    "result=first_line\n",
    "for lines in fh.readlines():\n",
    "    rows=lines.split(sep=\",\")\n",
    "    if(rows[-1] == \"Y\"):\n",
    "        for i in range(len(rows)-1):\n",
    "            if first_line[i] == rows[i]:\n",
    "                result[i]=first_line[i]\n",
    "            else:\n",
    "                result[i]=\"?\"\n",
    "print(result[:-1])\n",
    "                "
   ]
  }
 ],
 "metadata": {
  "kernelspec": {
   "display_name": "Python 3",
   "language": "python",
   "name": "python3"
  },
  "language_info": {
   "codemirror_mode": {
    "name": "ipython",
    "version": 3
   },
   "file_extension": ".py",
   "mimetype": "text/x-python",
   "name": "python",
   "nbconvert_exporter": "python",
   "pygments_lexer": "ipython3",
   "version": "3.7.3"
  }
 },
 "nbformat": 4,
 "nbformat_minor": 2
}
