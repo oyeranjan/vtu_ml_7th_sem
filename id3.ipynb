{
 "cells": [
  {
   "cell_type": "code",
   "execution_count": 2,
   "metadata": {},
   "outputs": [
    {
     "name": "stdout",
     "output_type": "stream",
     "text": [
      "Tree:\n",
      " {'Outlook': {'Overcast': 'Yes', 'Sunny': {'Humidity': {'High': 'No', 'Normal': 'Yes'}}, 'Rainy': {'Windy': {False: 'Yes', True: 'No'}}}}\n"
     ]
    }
   ],
   "source": [
    "import pandas as pd\n",
    "from math import *\n",
    "df=pd.read_csv('data3.csv')\n",
    "data=df.values.tolist()\n",
    "attr_names=df.columns.values.tolist()\n",
    "def entropy(pos,neg):\n",
    "    if pos==0 or neg==0:\n",
    "        return 0\n",
    "    tot=pos+neg\n",
    "    return -(pos/tot)*log(pos/tot,2)-(neg/tot)*log(neg/tot,2)\n",
    "def gain(data,attr,pos,neg):\n",
    "    d,E,acu={},entropy(pos,neg),0\n",
    "    for i in data:\n",
    "        if i[attr] not in d:\n",
    "            d[i[attr]]={}\n",
    "        d[i[attr]][i[-1]]=1+d[i[attr]].get(i[-1],0)\n",
    "    for i in d:\n",
    "        tot=d[i].get('Yes',0)+d[i].get('No',0)\n",
    "        acu +=tot/(pos+neg)*entropy(d[i].get(\"Yes\",0),d[i].get('No',0))\n",
    "    return E-acu\n",
    "def build(data,attr_names):\n",
    "    pos=len([x for x in data if x[-1]=='Yes'])\n",
    "    sz=len(data[0])-1\n",
    "    neg=len(data)-pos\n",
    "    if pos==0 or neg==0:\n",
    "        return 'Yes' if neg==0 else 'No'\n",
    "    root=max([[gain(data,i,pos,neg),i] for i in range(sz)])[1]\n",
    "    fin,res={},{}\n",
    "    uniq_attr=set([x[root] for x in data])\n",
    "    for i in uniq_attr:\n",
    "        res[i]=build([x[:root]+x[root+1:] for x in data if x[root]==i],attr_names[:root]+attr_names[root+1:])\n",
    "    fin[attr_names[root]]=res\n",
    "    return fin\n",
    "print(\"Tree:\\n\",build(data,attr_names))"
   ]
  },
  {
   "cell_type": "code",
   "execution_count": null,
   "metadata": {},
   "outputs": [],
   "source": []
  }
 ],
 "metadata": {
  "kernelspec": {
   "display_name": "Python 3",
   "language": "python",
   "name": "python3"
  },
  "language_info": {
   "codemirror_mode": {
    "name": "ipython",
    "version": 3
   },
   "file_extension": ".py",
   "mimetype": "text/x-python",
   "name": "python",
   "nbconvert_exporter": "python",
   "pygments_lexer": "ipython3",
   "version": "3.7.3"
  }
 },
 "nbformat": 4,
 "nbformat_minor": 2
}
