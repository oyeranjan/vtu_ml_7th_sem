{
 "cells": [
  {
   "cell_type": "code",
   "execution_count": 8,
   "metadata": {},
   "outputs": [
    {
     "name": "stdout",
     "output_type": "stream",
     "text": [
      "Specific Set -> [' Sunny', 'Warm', '?', 'Strong', '?', '?']\n",
      "Total General Set -> [[' Sunny', '?', '?', '?', '?', '?'], ['?', 'Warm', '?', '?', '?', '?'], ['?', '?', '?', 'Strong', '?', '?']]\n",
      "Final General Set -> []\n"
     ]
    }
   ],
   "source": [
    "def get_s_set():\n",
    "    fh=open(\"data.csv\")\n",
    "    FirstLine=fh.readline()\n",
    "    first_line=FirstLine.split(sep=\",\")\n",
    "    result=first_line\n",
    "    for lines in fh.readlines():\n",
    "        rows=lines.split(sep=\",\")\n",
    "        if(rows[-1] == \"Y\"):\n",
    "            for i in range(len(rows)-1):\n",
    "                if first_line[i] == rows[i]:\n",
    "                    result[i]=first_line[i]\n",
    "                else:\n",
    "                    result[i]=\"?\"\n",
    "    return result\n",
    "\n",
    "def get_g_set(_s_set):\n",
    "    _s_set.pop(-1)\n",
    "    _g_set = []\n",
    "    length = len(_s_set)\n",
    "    for i in range(length):\n",
    "        tmp = []\n",
    "        for j in range(length):\n",
    "            if _s_set[i] == \"?\":\n",
    "                continue\n",
    "            if j == i:\n",
    "                tmp.append(_s_set[j])\n",
    "            else:\n",
    "                tmp.append(\"?\")\n",
    "        if len(tmp) > 0:\n",
    "            _g_set.append(tmp)\n",
    "    return _g_set\n",
    "\n",
    "\n",
    "def check_consistency(_sub_set):\n",
    "    _sub_set.append(\"Y\")\n",
    "    file_handler = open(\"data.csv\", \"r\")\n",
    "    #file_handler.readline()\n",
    "    result = True\n",
    "    for line in file_handler.readlines():\n",
    "        row_list = line.split(\",\")\n",
    "        length = len(row_list)\n",
    "        for i in range(length):\n",
    "            if _sub_set[i] != \"?\" and row_list[i] != _sub_set[i]:\n",
    "                result = False\n",
    "    return result\n",
    "\n",
    "\n",
    "s_set = get_s_set()\n",
    "print(\"Specific Set ->\", s_set[:-1])\n",
    "g_set = get_g_set(s_set)\n",
    "print(\"Total General Set ->\", g_set)\n",
    "f_set = []\n",
    "for sub_set in g_set:\n",
    "    if check_consistency(sub_set):\n",
    "        f_set.append(sub_set)\n",
    "print(\"Final General Set ->\",f_set)"
   ]
  }
 ],
 "metadata": {
  "kernelspec": {
   "display_name": "Python 3",
   "language": "python",
   "name": "python3"
  },
  "language_info": {
   "codemirror_mode": {
    "name": "ipython",
    "version": 3
   },
   "file_extension": ".py",
   "mimetype": "text/x-python",
   "name": "python",
   "nbconvert_exporter": "python",
   "pygments_lexer": "ipython3",
   "version": "3.7.3"
  }
 },
 "nbformat": 4,
 "nbformat_minor": 2
}
